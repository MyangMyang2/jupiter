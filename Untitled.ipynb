{
 "cells": [
  {
   "cell_type": "code",
   "execution_count": 1,
   "id": "a0f8ffdc-5b83-4d22-90fe-bc02e04c1a28",
   "metadata": {
    "tags": []
   },
   "outputs": [
    {
     "name": "stdout",
     "output_type": "stream",
     "text": [
      "hello world\n"
     ]
    }
   ],
   "source": [
    "print('hello world')"
   ]
  },
  {
   "cell_type": "code",
   "execution_count": 2,
   "id": "2c54509f-f37f-43fd-b9b1-df0a00e2a46c",
   "metadata": {},
   "outputs": [],
   "source": [
    "from docx import Document\n",
    "from docx.shared import Inches\n",
    "\n",
    "document = Document()\n",
    "\n",
    "document.add_heading('Document Title', 0)\n",
    "\n",
    "p = document.add_paragraph('A plain paragraph having some ')\n",
    "p.add_run('bold').bold = True\n",
    "p.add_run(' and some ')\n",
    "p.add_run('italic.').italic = True\n",
    "\n",
    "document.save('demo.docx')"
   ]
  },
  {
   "cell_type": "code",
   "execution_count": 34,
   "id": "56634fbd-b884-4a6c-9bb6-5418053d11c5",
   "metadata": {
    "tags": []
   },
   "outputs": [],
   "source": [
    "from docx.shared import Pt\n",
    "doc = Document('contract_form.docx')\n",
    "para=doc.paragraphs\n",
    "\n",
    "para[4].text= '2022년 1월 1일'\n",
    "para[6].text= '주소 : 성남시 수정구 수정동 1번지'\n",
    "\n",
    "para[7].text= '상호 : 거니전자'\n",
    "para[8].text=''\n",
    "run=para[8].add_run('성명 : 이거니')\n",
    "run.font.size=Pt(15)\n",
    "run.bold=True\n",
    "\n",
    "table=doc.tables[0]#table 가져오기\n",
    "\n",
    "file=open('list.txt', 'r')\n",
    "print(file.readline())\n",
    "\n",
    "doc.save('test3.docx')\n",
    "# for i in range(0, len(para)):\n",
    "#     print(str(i),para[i].text)\n",
    "\n",
    "# paragraph 글 입력 방법 \n",
    "# run=para[4] # para[4].text= '2022. 1월 1일'\n",
    "\n",
    "# run.add_run('') 이미 있는 텍스트에 append\n"
   ]
  },
  {
   "cell_type": "code",
   "execution_count": 31,
   "id": "42d36018-5284-4074-8d27-c03e9d5136ba",
   "metadata": {},
   "outputs": [],
   "source": []
  },
  {
   "cell_type": "code",
   "execution_count": 30,
   "id": "032a53d2-8837-47ff-9462-0477d4da504f",
   "metadata": {},
   "outputs": [],
   "source": []
  },
  {
   "cell_type": "code",
   "execution_count": 32,
   "id": "f7cf773c-8b3f-4662-b51a-e3ee8188fcf0",
   "metadata": {},
   "outputs": [
    {
     "name": "stdout",
     "output_type": "stream",
     "text": [
      "0 물 품 납 품 계 약 서\n",
      "1 \n",
      "2 본 계약에 있어 다음 기재사항을 승낙함.\n",
      "3    \n",
      "4 2022년 1월 1일\n",
      "5 \n",
      "6 주소 : 성남시 수정구 수정동 1번지\n",
      "7 상호 : 거니전자\n",
      "8 성명 : 이거니\n",
      "9 \n",
      "10 \n",
      "11 건 명 : \n",
      "12 금 액 : \n",
      "13 \n",
      "14 \n",
      "15 \n",
      "16  승  낙  사  항 \n",
      "17 \n",
      "18  1. 20OO년 O월 O일까지 지정한 장소에 납품할 것이며, 그 납품 중 검사 불합격품이 있을 때에는 지정기일까지 교환하겠음.\n",
      "19  2. 납품기일 내에 완납치 못할 때에는 그 지연일수에 대하여 1일당 1,000분의 (2.5)에 상당하는 지체상금을 징수하여도 이의가 없음.\n",
      "20  3. 납품기한 또는 교환기일 경과 후 10일까지 완납하지 못할 때, 납품물품의 사양서 견본 등과 적합하지 아니할 때, 또는 계약담당자가 계약이행이 불가능하다고 인정할 때에는 그 계약을 해지하여도 이의신청 기타의 청구를 하지 않겠음.\n",
      "21  4. 제3호에 의하여 계약해지를 할 때에는 손해배상으로서 계약해지물품의 대가에 대하여, 납부기일 내에는 100분의 5, 납부기일 후에는 100분의 10에 상당하는 금액을 납부하겠음.\n",
      "22  5. 전 각호에 의하여 납부하여야 할 금액은 물품대금과 상계하여도 이의를 제기하지 않겠음.\n"
     ]
    }
   ],
   "source": [
    "for i in range(0, len(para)):\n",
    "    print(str(i),para[i].text)"
   ]
  },
  {
   "cell_type": "code",
   "execution_count": null,
   "id": "a4116736-2233-4b9c-ac06-cd9212b56517",
   "metadata": {},
   "outputs": [],
   "source": []
  }
 ],
 "metadata": {
  "kernelspec": {
   "display_name": "Python 3 (ipykernel)",
   "language": "python",
   "name": "python3"
  },
  "language_info": {
   "codemirror_mode": {
    "name": "ipython",
    "version": 3
   },
   "file_extension": ".py",
   "mimetype": "text/x-python",
   "name": "python",
   "nbconvert_exporter": "python",
   "pygments_lexer": "ipython3",
   "version": "3.9.13"
  }
 },
 "nbformat": 4,
 "nbformat_minor": 5
}
